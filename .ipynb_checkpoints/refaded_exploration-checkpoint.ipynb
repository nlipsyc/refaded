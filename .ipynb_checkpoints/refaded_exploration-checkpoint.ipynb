{
 "cells": [
  {
   "cell_type": "code",
   "execution_count": 1,
   "id": "9cd519d5-cbf9-4f40-af3a-5f9754608b6f",
   "metadata": {},
   "outputs": [],
   "source": [
    "import polars as pl\n",
    "\n",
    "df = pl.read_csv('song_lyrics.csv')"
   ]
  },
  {
   "cell_type": "code",
   "execution_count": 2,
   "id": "3c1b8e86-3682-4d5d-af26-b64e05ac96f9",
   "metadata": {},
   "outputs": [
    {
     "data": {
      "text/plain": [
       "<bound method DataFrame.head of shape: (5_134_856, 11)\n",
       "┌──────────────┬─────────┬─────────────┬──────┬───┬─────────┬─────────────┬─────────────┬──────────┐\n",
       "│ title        ┆ tag     ┆ artist      ┆ year ┆ … ┆ id      ┆ language_cl ┆ language_ft ┆ language │\n",
       "│ ---          ┆ ---     ┆ ---         ┆ ---  ┆   ┆ ---     ┆ d3          ┆ ---         ┆ ---      │\n",
       "│ str          ┆ str     ┆ str         ┆ i64  ┆   ┆ i64     ┆ ---         ┆ str         ┆ str      │\n",
       "│              ┆         ┆             ┆      ┆   ┆         ┆ str         ┆             ┆          │\n",
       "╞══════════════╪═════════╪═════════════╪══════╪═══╪═════════╪═════════════╪═════════════╪══════════╡\n",
       "│ Killa Cam    ┆ rap     ┆ Cam'ron     ┆ 2004 ┆ … ┆ 1       ┆ en          ┆ en          ┆ en       │\n",
       "│ Can I Live   ┆ rap     ┆ JAY-Z       ┆ 1996 ┆ … ┆ 3       ┆ en          ┆ en          ┆ en       │\n",
       "│ Forgive Me   ┆ rap     ┆ Fabolous    ┆ 2003 ┆ … ┆ 4       ┆ en          ┆ en          ┆ en       │\n",
       "│ Father       ┆         ┆             ┆      ┆   ┆         ┆             ┆             ┆          │\n",
       "│ Down and Out ┆ rap     ┆ Cam'ron     ┆ 2004 ┆ … ┆ 5       ┆ en          ┆ en          ┆ en       │\n",
       "│ Fly In       ┆ rap     ┆ Lil Wayne   ┆ 2005 ┆ … ┆ 6       ┆ en          ┆ en          ┆ en       │\n",
       "│ …            ┆ …       ┆ …           ┆ …    ┆ … ┆ …       ┆ …           ┆ …           ┆ …        │\n",
       "│ Ocean        ┆ pop     ┆ Effemar     ┆ 2022 ┆ … ┆ 7882842 ┆ en          ┆ en          ┆ en       │\n",
       "│ 64 Bars      ┆ rap     ┆ Rapido      ┆ 2022 ┆ … ┆ 7882843 ┆ de          ┆ de          ┆ de       │\n",
       "│ Raise Our    ┆ pop     ┆ Culture     ┆ 2016 ┆ … ┆ 7882845 ┆ en          ┆ en          ┆ en       │\n",
       "│ Hands        ┆         ┆ Code, Pag & ┆      ┆   ┆         ┆             ┆             ┆          │\n",
       "│              ┆         ┆ Mylo        ┆      ┆   ┆         ┆             ┆             ┆          │\n",
       "│ CEO          ┆ rap     ┆ Antropolita ┆ 2022 ┆ … ┆ 7882846 ┆ pl          ┆ pl          ┆ pl       │\n",
       "│ New Number   ┆ country ┆ Alana       ┆ 2022 ┆ … ┆ 7882848 ┆ en          ┆ en          ┆ en       │\n",
       "│              ┆         ┆ Springsteen ┆      ┆   ┆         ┆             ┆             ┆          │\n",
       "└──────────────┴─────────┴─────────────┴──────┴───┴─────────┴─────────────┴─────────────┴──────────┘>"
      ]
     },
     "execution_count": 2,
     "metadata": {},
     "output_type": "execute_result"
    }
   ],
   "source": [
    "df.head"
   ]
  },
  {
   "cell_type": "code",
   "execution_count": 3,
   "id": "2340055f-ea96-49c8-8132-7b5eebe8cff6",
   "metadata": {},
   "outputs": [
    {
     "data": {
      "text/html": [
       "<div><style>\n",
       ".dataframe > thead > tr,\n",
       ".dataframe > tbody > tr {\n",
       "  text-align: right;\n",
       "  white-space: pre-wrap;\n",
       "}\n",
       "</style>\n",
       "<small>shape: (1, 11)</small><table border=\"1\" class=\"dataframe\"><thead><tr><th>title</th><th>tag</th><th>artist</th><th>year</th><th>views</th><th>features</th><th>lyrics</th><th>id</th><th>language_cld3</th><th>language_ft</th><th>language</th></tr><tr><td>str</td><td>str</td><td>str</td><td>i64</td><td>i64</td><td>str</td><td>str</td><td>i64</td><td>str</td><td>str</td><td>str</td></tr></thead><tbody><tr><td>&quot;Killa Cam&quot;</td><td>&quot;rap&quot;</td><td>&quot;Cam&#x27;ron&quot;</td><td>2004</td><td>173166</td><td>&quot;{&quot;Cam\\\\&#x27;ron&quot;,&quot;Opera Steve&quot;}&quot;</td><td>&quot;[Chorus: Opera Steve &amp; Cam&#x27;ron…</td><td>1</td><td>&quot;en&quot;</td><td>&quot;en&quot;</td><td>&quot;en&quot;</td></tr></tbody></table></div>"
      ],
      "text/plain": [
       "shape: (1, 11)\n",
       "┌───────────┬─────┬─────────┬──────┬───┬─────┬───────────────┬─────────────┬──────────┐\n",
       "│ title     ┆ tag ┆ artist  ┆ year ┆ … ┆ id  ┆ language_cld3 ┆ language_ft ┆ language │\n",
       "│ ---       ┆ --- ┆ ---     ┆ ---  ┆   ┆ --- ┆ ---           ┆ ---         ┆ ---      │\n",
       "│ str       ┆ str ┆ str     ┆ i64  ┆   ┆ i64 ┆ str           ┆ str         ┆ str      │\n",
       "╞═══════════╪═════╪═════════╪══════╪═══╪═════╪═══════════════╪═════════════╪══════════╡\n",
       "│ Killa Cam ┆ rap ┆ Cam'ron ┆ 2004 ┆ … ┆ 1   ┆ en            ┆ en          ┆ en       │\n",
       "└───────────┴─────┴─────────┴──────┴───┴─────┴───────────────┴─────────────┴──────────┘"
      ]
     },
     "execution_count": 3,
     "metadata": {},
     "output_type": "execute_result"
    }
   ],
   "source": [
    "df[0]"
   ]
  },
  {
   "cell_type": "code",
   "execution_count": 8,
   "id": "95c3cec3-662f-4dd7-8a25-e4397991a83a",
   "metadata": {},
   "outputs": [
    {
     "data": {
      "text/plain": [
       "'[Chorus: Opera Steve & Cam\\'ron]\\nKilla Cam, Killa Cam, Cam\\nKilla Cam, Killa Cam\\nKilla Cam, Cam\\nKilla Cam, Killa Cam, Cam\\nKilla Killa Killa Cam\\nKilla Cam, Cam, Killa (Killa!)\\nKilla Cam, Killa Cam, Cam (Bases loaded)\\nKilla Cam, Killa Cam (Uh-huh)\\nKilla Cam, Cam (Santana on second, Jim on third)\\nKilla Cam, Killa Cam, Cam (I\\'m at bat)\\nKilla Killa Killa Cam\\nKilla Cam, Cam, Killa (I\\'m \\'bout to hit this shit out the world)\\nKilla Cam (Ugh, Heatmakerz), Killa Cam, Cam\\nKilla Cam, Killa Cam\\nKilla Cam, Cam (Hahahaha)\\nKilla Cam, Killa Cam, Cam\\nKilla Killa Killa Cam\\nKilla Cam, Cam, Killa (We  make this shit clap)\\nKilla Cam, Killa Cam, Cam\\nKilla Cam, Killa Cam\\nKilla Cam, Cam\\nKilla Cam, Killa Cam, Cam\\nKilla Killa Killa Cam (Killa! Killa!)\\nKilla Cam, Cam, Killa\\n[Verse 1]\\nWith the goons I spar, stay in tune with ma (What up?)\\nShe like, \"Damn, this the realest since \\'Kumbaya\\'\"\\nBomaye, Killa Cam, my Lord (My Lord)\\nStill the man with the pan, scrilla, fam, on board\\nNow bitches, they want to neuter me, niggas, they want to tutor me\\nThe hooligan in Houlihan\\'s, maneuvering\\'s nothing new to me\\nDoggy, I\\'m from the land of grind, pan-pan: gram or dime?\\nNot toes or MC when I say \"hammer time\"\\nBeef: I hammer mine, when I get my hands on nines\\nIf I had on \\'Bama line, Corduroys, Cam\\'ll shine\\nCanary burgundy: I call it \"Lemon Red\" (Red)\\nYellow diamonds in my ear, call \\'em \"Lemonheads\"\\nLemonhead, end up dead, ice like Winnipeg\\nGemstone, Flintstones, you could say I\\'m friends with Fred\\nYou unhappy, scrappy? (What\\'s going on, Scrappy?)\\nI got Pataki at me\\nBitches say I\\'m \"Tacky Daddy,\" Range look like Laffy Taffy\\n\\n[Chorus]\\nKilla Cam\\nKilla Cam Cam (sing)\\nKilla Cam Killa Cam\\nKilla Cam Cam (uhh, it\\'s me, clap)\\nKilla Cam\\nKilla Cam Cam\\nKilla Killa Killa Cam (sing)\\nKilla Cam Cam Killa (uhh, it\\'s me, clap)\\nKilla Cam\\nKilla Cam Cam (sing)\\nKilla Cam Killa Cam\\nKilla Cam Cam (clap, it\\'s me)\\nKilla Cam\\nKilla Cam Cam\\nKilla Killa Killa Cam (clap)\\n(Harlem, I know y\\'all know about this)\\nKilla Cam Cam Killa (Killa!)\\n[Verse 2]\\nYo, I\\'m from where Nicky Barnes got rich as fuck\\nRich and A hit the kitchens then were pitchin\\' up\\nRob Base, Mase, Doug E Fresh switched it up\\nI do both, who am I to fuck tradition up? (Killa!)\\nSo I parked in a tow-away zone\\nChrome...I don\\'t care\\nThat car a throwaway, homes (Killa!)\\nWelcome to Harlem, where you welcome to problems\\nOff of furlough, fellow felons get pardons\\nThem niggas knew we bang\\nStood out like Pootie Tang\\nSoon as the stoolie sings\\nThat when the toolie sing!\\nBang! Bang!\\nCame from that movie ring\\nSnap, crack jewelry bling\\nFlapjack, ooh he bring\\nClack-clack, \"ooh he ring!\"\\nBad rap, cuties cling\\nAss cap, put them in the river\\nI\\'m the sushi king\\nAnd I\\'ma keep ya fresh\\nLet the fish eat ya flesh\\nYes sir, please confess\\nJust say he\\'s the best (Killa!)\\n[Chorus]\\nKilla Cam (sing)\\nKilla Cam Cam (clap)\\nKilla Cam Killa Cam (yes)\\nKilla Cam Cam (it\\'s me, sing)\\nKilla Cam\\nKilla Cam Cam (sing)\\nKilla Killa Killa Cam\\nKilla Cam Cam Killa  (clap, yes sir, uhh)\\nKilla Cam\\nKilla Cam Cam (sing, clap)\\nKilla Cam Killa Cam\\nKilla Cam Cam (it\\'s me)\\nKilla Cam (sing, clap)\\nKilla Cam Cam\\nKilla Killa Killa Cam\\n(Let me end this shit, listen)\\nKilla Cam Cam Killa\\n\\n[Verse 3]\\n(Killa!) Yo\\nHow dope is this?\\nTeach you how to rope a chick\\nWhat you want: coke or piff?\\nGot it all, smoke or sniff? (everything)\\nAnd you know my drift\\nUsed to figures, dough and shit (millions)\\nYou a rooster nigga, just a roaster, bitch\\nAnd I roast ya bitch\\nThat\\'s how it usually ends\\nTell her and her groupie friends\\nGo get their coochie cleansed\\nWe the moody Gucci, Louis and Pucci men\\nEscada, Prada\\nThe chopper it got the Uzi lens\\nBird\\'s-eye view\\nThe birds I knew flip birds\\nBird gangs, it was birds I flew\\nAnd word I blew off herb I grew\\nI would serve on stoops\\nNow swerve in coupes\\nIt\\'s me, sing! Killa, uhh\\n\\n[Chorus]\\nKilla Cam\\nKilla Cam Cam\\nKilla Cam Killa Cam\\nKilla Cam Cam\\nKilla Cam\\nKilla Cam Cam\\nKilla Killa Killa Cam\\nKilla Cam Cam Killa\\nKilla Cam\\nKilla Cam Cam\\nKilla Cam Killa Cam\\nKilla Cam Cam\\nKilla Cam\\nKilla Cam Cam\\nKilla Killa Killa Cam\\nKilla Cam Cam Killa'"
      ]
     },
     "execution_count": 8,
     "metadata": {},
     "output_type": "execute_result"
    }
   ],
   "source": [
    "pl.select(df[0][\"lyrics\"]).item()"
   ]
  },
  {
   "cell_type": "code",
   "execution_count": 13,
   "id": "430852c9-ce63-4bc1-b6a7-f32a7772117c",
   "metadata": {},
   "outputs": [
    {
     "data": {
      "text/html": [
       "<div><style>\n",
       ".dataframe > thead > tr,\n",
       ".dataframe > tbody > tr {\n",
       "  text-align: right;\n",
       "  white-space: pre-wrap;\n",
       "}\n",
       "</style>\n",
       "<small>shape: (6,)</small><table border=\"1\" class=\"dataframe\"><thead><tr><th>tag</th></tr><tr><td>str</td></tr></thead><tbody><tr><td>&quot;country&quot;</td></tr><tr><td>&quot;rap&quot;</td></tr><tr><td>&quot;rb&quot;</td></tr><tr><td>&quot;misc&quot;</td></tr><tr><td>&quot;pop&quot;</td></tr><tr><td>&quot;rock&quot;</td></tr></tbody></table></div>"
      ],
      "text/plain": [
       "shape: (6,)\n",
       "Series: 'tag' [str]\n",
       "[\n",
       "\t\"country\"\n",
       "\t\"rap\"\n",
       "\t\"rb\"\n",
       "\t\"misc\"\n",
       "\t\"pop\"\n",
       "\t\"rock\"\n",
       "]"
      ]
     },
     "execution_count": 13,
     "metadata": {},
     "output_type": "execute_result"
    }
   ],
   "source": [
    "df[\"tag\"].unique()"
   ]
  },
  {
   "cell_type": "code",
   "execution_count": null,
   "id": "a36dc31c-3433-4f2d-850c-fd780561ed0a",
   "metadata": {},
   "outputs": [],
   "source": [
    "rap = "
   ]
  }
 ],
 "metadata": {
  "kernelspec": {
   "display_name": "Python 3 (ipykernel)",
   "language": "python",
   "name": "python3"
  },
  "language_info": {
   "codemirror_mode": {
    "name": "ipython",
    "version": 3
   },
   "file_extension": ".py",
   "mimetype": "text/x-python",
   "name": "python",
   "nbconvert_exporter": "python",
   "pygments_lexer": "ipython3",
   "version": "3.13.0"
  }
 },
 "nbformat": 4,
 "nbformat_minor": 5
}
