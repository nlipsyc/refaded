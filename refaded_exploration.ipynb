{
 "cells": [
  {
   "cell_type": "code",
   "execution_count": 1,
   "id": "611001b2",
   "metadata": {},
   "outputs": [],
   "source": [
    "import polars as pl\n",
    "import psycopg\n",
    "from psycopg import sql\n",
    "import spacy\n",
    "from uuid import UUID\n",
    "from spacy.tokens import Doc, Token, Span\n",
    "from spacy.language import Language\n",
    "from numerizer import numerize\n"
   ]
  },
  {
   "cell_type": "code",
   "execution_count": 2,
   "id": "9e21c679",
   "metadata": {},
   "outputs": [],
   "source": [
    "nlp = spacy.load(\"en_core_web_sm\")"
   ]
  },
  {
   "cell_type": "code",
   "execution_count": 3,
   "id": "a36dc31c-3433-4f2d-850c-fd780561ed0a",
   "metadata": {},
   "outputs": [
    {
     "data": {
      "text/plain": [
       "(10, 11)"
      ]
     },
     "execution_count": 3,
     "metadata": {},
     "output_type": "execute_result"
    }
   ],
   "source": [
    "rap_q = pl.scan_csv(\"song_lyrics.csv\").filter(pl.col(\"tag\").is_in([\"rap\", \"misc\", \"rb\"])).limit(10)\n",
    "\n",
    "rap = rap_q.collect()\n",
    "rap.shape"
   ]
  },
  {
   "cell_type": "code",
   "execution_count": 26,
   "id": "4a42a777",
   "metadata": {},
   "outputs": [],
   "source": [
    "rap.write_csv(\"./tests/test_data.csv\")"
   ]
  },
  {
   "cell_type": "code",
   "execution_count": 18,
   "id": "e024e1d8",
   "metadata": {},
   "outputs": [],
   "source": [
    "# class Ngram:\n",
    "#     \"\"\"A cleaned ngram from a song.\n",
    "\n",
    "#     We store the clean ngram text, but the indecies where the ngram occurs in the raw\n",
    "#     lyrics. This halves the required storage while allowing us to pull the original\n",
    "#     lyrics from the song. Because we remove stopwords, len(clean_text) may not equal\n",
    "#     len(text).\n",
    "#     \"\"\"\n",
    "\n",
    "#     clean_text: str\n",
    "#     start_idx_unprocessed: int\n",
    "#     end_idx_unprocessed: int\n",
    "\n",
    "\n",
    "def is_valid_token(token: Token) -> bool:\n",
    "    # Is stop includes numbers. Go over this an decide if it's desired\n",
    "    token_is_invalid = token.is_stop or token.is_punct or token.is_space\n",
    "    return not token_is_invalid\n",
    "\n",
    "\n",
    "def get_ngram_component_from_token(token: Token) -> str:\n",
    "    \"\"\"Determine the appropriate string representation of a token.\"\"\"\n",
    "    if numerized := token._.numerized != token.text:\n",
    "        return numerized\n",
    "    return token.lemma_\n",
    "\n",
    "\n",
    "def ngram_generator(lyrics: Doc, ngram_length=5) -> list[Token]:\n",
    "    \"\"\"Iterate through a song, yielding lists of ngrams until no full ones remain.\"\"\"\n",
    "\n",
    "    tokens_in_ngram: list[Token] = []\n",
    "    for potential_token in lyrics:\n",
    "        if len(tokens_in_ngram) < ngram_length:\n",
    "            if is_valid_token(potential_token):\n",
    "                tokens_in_ngram.append(potential_token)\n",
    "\n",
    "        # to_yield = Ngram(\n",
    "        #     clean_text=\" \".join(token.lemma_ for token in tokens_in_ngram),\n",
    "        #     start_idx_unprocessed=tokens_in_ngram[0].idx,\n",
    "        #     end_idx_unprocessed=tokens_in_ngram[-1].idx+len(tokens_in_ngram[-1].idx),\n",
    "        # )\n",
    "        elif len(tokens_in_ngram) < ngram_length:\n",
    "            raise StopIteration\n",
    "        else:\n",
    "            tokens_to_return = tokens_in_ngram\n",
    "            tokens_in_ngram = []\n",
    "            yield tokens_to_return"
   ]
  },
  {
   "cell_type": "code",
   "execution_count": 21,
   "id": "52225f17",
   "metadata": {},
   "outputs": [],
   "source": [
    "from spacy.tokens.token import Token\n",
    "\n",
    "\n",
    "def generate_ngrams_from_lyrics(lyrics: str, song_id: UUID) -> list[Token]:\n",
    "    doc: Doc = nlp(lyrics)\n",
    "\n",
    "    # Here we should transform these lists of tokens into Ngram objects that will\n",
    "    # match up with the DB table\n",
    "    return [ngram for ngram in ngram_generator(doc)]\n"
   ]
  },
  {
   "cell_type": "code",
   "execution_count": null,
   "id": "cfae67d3",
   "metadata": {},
   "outputs": [],
   "source": [
    "def _token_to_db(ngram: list[Token], song_id: UUID) -> tuple[str, str, int, int]:\n",
    "    ngram_text = \" \".join([token.text for token in ngram])\n",
    "    start_index = ngram[0].idx\n",
    "    end_index = ngram[-1] + len(ngram[-1])\n",
    "\n",
    "    return (ngram_text, song_id, start_index, end_index)\n",
    "\n",
    "\n",
    "def insert_ngrams(lyrics: str, song_id: UUID):\n",
    "    \"\"\"UNTESTED, also need to inject a connection (or restructure or something)\"\"\"\n",
    "    ngrams = generate_ngrams_from_lyrics(lyrics, song_id)\n",
    "\n",
    "    query = sql.SQL(\n",
    "        \"INSERT INTO ngrams (ngram, song_id, start_in_song, end_in_song) VALUES (%s, %s, %s, %s);\"\n",
    "    )\n",
    "    res = cur.executemany(\n",
    "        query, [_token_to_db(ngram, song_id) for ngram in ngrams]\n",
    "    )\n",
    "\n",
    "    conn.commit()\n",
    "    return res.fetchone()[0]"
   ]
  },
  {
   "cell_type": "code",
   "execution_count": 24,
   "id": "1095614d",
   "metadata": {},
   "outputs": [
    {
     "ename": "KeyboardInterrupt",
     "evalue": "",
     "output_type": "error",
     "traceback": [
      "\u001b[0;31m---------------------------------------------------------------------------\u001b[0m",
      "\u001b[0;31mKeyboardInterrupt\u001b[0m                         Traceback (most recent call last)",
      "Cell \u001b[0;32mIn[24], line 3\u001b[0m\n\u001b[1;32m      1\u001b[0m res \u001b[38;5;241m=\u001b[39m generate_ngrams_from_lyrics(rap[\u001b[38;5;241m1\u001b[39m][\u001b[38;5;124m'\u001b[39m\u001b[38;5;124mlyrics\u001b[39m\u001b[38;5;124m'\u001b[39m]\u001b[38;5;241m.\u001b[39mitem(), \u001b[38;5;241m1\u001b[39m)\n\u001b[0;32m----> 3\u001b[0m \u001b[38;5;28mprint\u001b[39m(res)\n",
      "File \u001b[0;32m~/miniconda3/envs/refaded/lib/python3.12/site-packages/debugpy/_vendored/pydevd/_pydevd_bundle/pydevd_frame.py:988\u001b[0m, in \u001b[0;36mPyDBFrame.trace_dispatch\u001b[0;34m(self, frame, event, arg)\u001b[0m\n\u001b[1;32m    986\u001b[0m \u001b[38;5;66;03m# if thread has a suspend flag, we suspend with a busy wait\u001b[39;00m\n\u001b[1;32m    987\u001b[0m \u001b[38;5;28;01mif\u001b[39;00m info\u001b[38;5;241m.\u001b[39mpydev_state \u001b[38;5;241m==\u001b[39m STATE_SUSPEND:\n\u001b[0;32m--> 988\u001b[0m     \u001b[38;5;28;43mself\u001b[39;49m\u001b[38;5;241;43m.\u001b[39;49m\u001b[43mdo_wait_suspend\u001b[49m\u001b[43m(\u001b[49m\u001b[43mthread\u001b[49m\u001b[43m,\u001b[49m\u001b[43m \u001b[49m\u001b[43mframe\u001b[49m\u001b[43m,\u001b[49m\u001b[43m \u001b[49m\u001b[43mevent\u001b[49m\u001b[43m,\u001b[49m\u001b[43m \u001b[49m\u001b[43marg\u001b[49m\u001b[43m)\u001b[49m\n\u001b[1;32m    989\u001b[0m     \u001b[38;5;28;01mreturn\u001b[39;00m \u001b[38;5;28mself\u001b[39m\u001b[38;5;241m.\u001b[39mtrace_dispatch\n\u001b[1;32m    990\u001b[0m \u001b[38;5;28;01melse\u001b[39;00m:\n",
      "File \u001b[0;32m~/miniconda3/envs/refaded/lib/python3.12/site-packages/debugpy/_vendored/pydevd/_pydevd_bundle/pydevd_frame.py:165\u001b[0m, in \u001b[0;36mPyDBFrame.do_wait_suspend\u001b[0;34m(self, *args, **kwargs)\u001b[0m\n\u001b[1;32m    164\u001b[0m \u001b[38;5;28;01mdef\u001b[39;00m \u001b[38;5;21mdo_wait_suspend\u001b[39m(\u001b[38;5;28mself\u001b[39m, \u001b[38;5;241m*\u001b[39margs, \u001b[38;5;241m*\u001b[39m\u001b[38;5;241m*\u001b[39mkwargs):\n\u001b[0;32m--> 165\u001b[0m     \u001b[38;5;28;43mself\u001b[39;49m\u001b[38;5;241;43m.\u001b[39;49m\u001b[43m_args\u001b[49m\u001b[43m[\u001b[49m\u001b[38;5;241;43m0\u001b[39;49m\u001b[43m]\u001b[49m\u001b[38;5;241;43m.\u001b[39;49m\u001b[43mdo_wait_suspend\u001b[49m\u001b[43m(\u001b[49m\u001b[38;5;241;43m*\u001b[39;49m\u001b[43margs\u001b[49m\u001b[43m,\u001b[49m\u001b[43m \u001b[49m\u001b[38;5;241;43m*\u001b[39;49m\u001b[38;5;241;43m*\u001b[39;49m\u001b[43mkwargs\u001b[49m\u001b[43m)\u001b[49m\n",
      "File \u001b[0;32m~/miniconda3/envs/refaded/lib/python3.12/site-packages/debugpy/_vendored/pydevd/pydevd.py:2070\u001b[0m, in \u001b[0;36mPyDB.do_wait_suspend\u001b[0;34m(self, thread, frame, event, arg, exception_type)\u001b[0m\n\u001b[1;32m   2067\u001b[0m             from_this_thread\u001b[38;5;241m.\u001b[39mappend(frame_custom_thread_id)\n\u001b[1;32m   2069\u001b[0m     \u001b[38;5;28;01mwith\u001b[39;00m \u001b[38;5;28mself\u001b[39m\u001b[38;5;241m.\u001b[39m_threads_suspended_single_notification\u001b[38;5;241m.\u001b[39mnotify_thread_suspended(thread_id, thread, stop_reason):\n\u001b[0;32m-> 2070\u001b[0m         keep_suspended \u001b[38;5;241m=\u001b[39m \u001b[38;5;28;43mself\u001b[39;49m\u001b[38;5;241;43m.\u001b[39;49m\u001b[43m_do_wait_suspend\u001b[49m\u001b[43m(\u001b[49m\u001b[43mthread\u001b[49m\u001b[43m,\u001b[49m\u001b[43m \u001b[49m\u001b[43mframe\u001b[49m\u001b[43m,\u001b[49m\u001b[43m \u001b[49m\u001b[43mevent\u001b[49m\u001b[43m,\u001b[49m\u001b[43m \u001b[49m\u001b[43marg\u001b[49m\u001b[43m,\u001b[49m\u001b[43m \u001b[49m\u001b[43msuspend_type\u001b[49m\u001b[43m,\u001b[49m\u001b[43m \u001b[49m\u001b[43mfrom_this_thread\u001b[49m\u001b[43m,\u001b[49m\u001b[43m \u001b[49m\u001b[43mframes_tracker\u001b[49m\u001b[43m)\u001b[49m\n\u001b[1;32m   2072\u001b[0m frames_list \u001b[38;5;241m=\u001b[39m \u001b[38;5;28;01mNone\u001b[39;00m\n\u001b[1;32m   2074\u001b[0m \u001b[38;5;28;01mif\u001b[39;00m keep_suspended:\n\u001b[1;32m   2075\u001b[0m     \u001b[38;5;66;03m# This means that we should pause again after a set next statement.\u001b[39;00m\n",
      "File \u001b[0;32m~/miniconda3/envs/refaded/lib/python3.12/site-packages/debugpy/_vendored/pydevd/pydevd.py:2106\u001b[0m, in \u001b[0;36mPyDB._do_wait_suspend\u001b[0;34m(self, thread, frame, event, arg, suspend_type, from_this_thread, frames_tracker)\u001b[0m\n\u001b[1;32m   2103\u001b[0m         \u001b[38;5;28mself\u001b[39m\u001b[38;5;241m.\u001b[39m_call_input_hook()\n\u001b[1;32m   2105\u001b[0m     \u001b[38;5;28mself\u001b[39m\u001b[38;5;241m.\u001b[39mprocess_internal_commands()\n\u001b[0;32m-> 2106\u001b[0m     \u001b[43mtime\u001b[49m\u001b[38;5;241;43m.\u001b[39;49m\u001b[43msleep\u001b[49m\u001b[43m(\u001b[49m\u001b[38;5;241;43m0.01\u001b[39;49m\u001b[43m)\u001b[49m\n\u001b[1;32m   2108\u001b[0m \u001b[38;5;28mself\u001b[39m\u001b[38;5;241m.\u001b[39mcancel_async_evaluation(get_current_thread_id(thread), \u001b[38;5;28mstr\u001b[39m(\u001b[38;5;28mid\u001b[39m(frame)))\n\u001b[1;32m   2110\u001b[0m \u001b[38;5;66;03m# process any stepping instructions\u001b[39;00m\n",
      "\u001b[0;31mKeyboardInterrupt\u001b[0m: "
     ]
    }
   ],
   "source": [
    "for song in rap:\n",
    "\n",
    "res = generate_ngrams_from_lyrics(rap[1]['lyrics'].item(), 1)\n",
    "\n",
    "print(res)"
   ]
  },
  {
   "cell_type": "code",
   "execution_count": 3,
   "id": "b714a033",
   "metadata": {},
   "outputs": [],
   "source": [
    "def generate_song_insert_values(song:dict[str, str]) ->  tuple[str]:\n",
    "    lyrics = song['lyrics']\n",
    "\n",
    "\n",
    "    values = (song['artist'], lyrics)\n",
    "    return  values\n"
   ]
  },
  {
   "cell_type": "code",
   "execution_count": null,
   "id": "ed7d637e",
   "metadata": {},
   "outputs": [],
   "source": [
    "generate_song_insert_values(next(rap[1].iter_rows(named=True)))"
   ]
  },
  {
   "cell_type": "code",
   "execution_count": 29,
   "id": "70e9b472",
   "metadata": {},
   "outputs": [],
   "source": [
    "\n",
    "\n",
    "def insert_song(values:tuple[str], conn, cur)-> UUID:\n",
    "        query = sql.SQL(\n",
    "            \"INSERT INTO songs (artist, lyrics) VALUES (%s, %s) RETURNING id;\"\n",
    "        )\n",
    "        res = cur.execute(query, values)\n",
    "\n",
    "        conn.commit()\n",
    "        return res.fetchone()[0]"
   ]
  },
  {
   "cell_type": "code",
   "execution_count": null,
   "id": "d0f97dd1",
   "metadata": {},
   "outputs": [],
   "source": [
    "with psycopg.connect(\"host=localhost user=postgres password=pass1234\") as conn:\n",
    "    with conn.cursor() as cur:\n",
    "        ctx = {'conn': conn, 'cur': cur}\n",
    "\n",
    "        for i, song in enumerate(rap.iter_rows(named=True)):\n",
    "            if i >= 5:\n",
    "                break\n",
    "            song_values = generate_song_insert_values(song)\n",
    "\n",
    "            song_id = insert_song(song_values, **ctx)\n",
    "            insert_ngrams(song['lyrics'], song_id)\n",
    "\n",
    "            print([c for c in cur])"
   ]
  },
  {
   "cell_type": "code",
   "execution_count": 58,
   "id": "7274b7c3",
   "metadata": {},
   "outputs": [
    {
     "data": {
      "text/plain": [
       "((2,), (3,))"
      ]
     },
     "execution_count": 58,
     "metadata": {},
     "output_type": "execute_result"
    }
   ],
   "source": [
    "l=[1]\n",
    "l.append([12])\n",
    "l\n",
    "\n",
    "t = ()\n",
    "t+=((2,),)\n",
    "t+=((3,),)\n",
    "t"
   ]
  },
  {
   "cell_type": "code",
   "execution_count": null,
   "id": "70970196",
   "metadata": {},
   "outputs": [],
   "source": []
  }
 ],
 "metadata": {
  "kernelspec": {
   "display_name": "refaded",
   "language": "python",
   "name": "python3"
  },
  "language_info": {
   "codemirror_mode": {
    "name": "ipython",
    "version": 3
   },
   "file_extension": ".py",
   "mimetype": "text/x-python",
   "name": "python",
   "nbconvert_exporter": "python",
   "pygments_lexer": "ipython3",
   "version": "3.13.0"
  }
 },
 "nbformat": 4,
 "nbformat_minor": 5
}
